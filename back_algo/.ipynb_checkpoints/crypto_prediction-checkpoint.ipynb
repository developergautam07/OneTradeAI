{
 "cells": [
  {
   "cell_type": "code",
   "execution_count": 121,
   "metadata": {},
   "outputs": [],
   "source": [
    "# Import Libraries\n",
    "import numpy as np\n",
    "import pandas as pd\n",
    "import datetime as dt\n",
    "import matplotlib.pyplot as plt\n",
    "import pandas_datareader.data as web\n",
    "from sklearn.preprocessing import MinMaxScaler\n",
    "from tensorflow.keras.layers import Dense, Dropout, LSTM\n",
    "from tensorflow.keras.models import Sequential\n",
    "import yfinance as yf"
   ]
  },
  {
   "cell_type": "code",
   "execution_count": 122,
   "metadata": {},
   "outputs": [
    {
     "name": "stdout",
     "output_type": "stream",
     "text": [
      "2023-05-15 02:24:58.741409\n"
     ]
    }
   ],
   "source": [
    "CRYPTO_CURRENCY = 'BTC'\n",
    "AGAINST_CURRENCY = 'INR'\n",
    "END = dt.datetime.now()\n",
    "START = pd.to_datetime(END) - pd.DateOffset(days=2) #dt.datetime(2023,4,1)\n",
    "print(START)\n",
    "PERIOD = '1d'\n",
    "INERVAL = \"5m\""
   ]
  },
  {
   "cell_type": "code",
   "execution_count": 123,
   "metadata": {},
   "outputs": [
    {
     "name": "stdout",
     "output_type": "stream",
     "text": [
      "[*********************100%***********************]  1 of 1 completed\n"
     ]
    }
   ],
   "source": [
    "# Read Data\n",
    "data = yf.download(f\"{CRYPTO_CURRENCY}-{AGAINST_CURRENCY}\", start=START, end=END, period=PERIOD, interval=INERVAL)"
   ]
  },
  {
   "cell_type": "code",
   "execution_count": 124,
   "metadata": {},
   "outputs": [
    {
     "data": {
      "text/html": [
       "<div>\n",
       "<style scoped>\n",
       "    .dataframe tbody tr th:only-of-type {\n",
       "        vertical-align: middle;\n",
       "    }\n",
       "\n",
       "    .dataframe tbody tr th {\n",
       "        vertical-align: top;\n",
       "    }\n",
       "\n",
       "    .dataframe thead th {\n",
       "        text-align: right;\n",
       "    }\n",
       "</style>\n",
       "<table border=\"1\" class=\"dataframe\">\n",
       "  <thead>\n",
       "    <tr style=\"text-align: right;\">\n",
       "      <th></th>\n",
       "      <th>Open</th>\n",
       "      <th>High</th>\n",
       "      <th>Low</th>\n",
       "      <th>Close</th>\n",
       "      <th>Adj Close</th>\n",
       "      <th>Volume</th>\n",
       "    </tr>\n",
       "    <tr>\n",
       "      <th>Datetime</th>\n",
       "      <th></th>\n",
       "      <th></th>\n",
       "      <th></th>\n",
       "      <th></th>\n",
       "      <th></th>\n",
       "      <th></th>\n",
       "    </tr>\n",
       "  </thead>\n",
       "  <tbody>\n",
       "    <tr>\n",
       "      <th>2023-05-16 20:30:00+00:00</th>\n",
       "      <td>2217530.00</td>\n",
       "      <td>2219390.50</td>\n",
       "      <td>2217530.00</td>\n",
       "      <td>2218882.00</td>\n",
       "      <td>2218882.00</td>\n",
       "      <td>677445632</td>\n",
       "    </tr>\n",
       "    <tr>\n",
       "      <th>2023-05-16 20:35:00+00:00</th>\n",
       "      <td>2218978.50</td>\n",
       "      <td>2220552.75</td>\n",
       "      <td>2218978.50</td>\n",
       "      <td>2219520.50</td>\n",
       "      <td>2219520.50</td>\n",
       "      <td>1937506304</td>\n",
       "    </tr>\n",
       "    <tr>\n",
       "      <th>2023-05-16 20:40:00+00:00</th>\n",
       "      <td>2220209.25</td>\n",
       "      <td>2220209.25</td>\n",
       "      <td>2219264.25</td>\n",
       "      <td>2219834.00</td>\n",
       "      <td>2219834.00</td>\n",
       "      <td>440270848</td>\n",
       "    </tr>\n",
       "    <tr>\n",
       "      <th>2023-05-16 20:45:00+00:00</th>\n",
       "      <td>2220500.75</td>\n",
       "      <td>2221176.00</td>\n",
       "      <td>2220500.75</td>\n",
       "      <td>2220894.25</td>\n",
       "      <td>2220894.25</td>\n",
       "      <td>337903616</td>\n",
       "    </tr>\n",
       "    <tr>\n",
       "      <th>2023-05-16 20:50:00+00:00</th>\n",
       "      <td>2219509.25</td>\n",
       "      <td>2219509.25</td>\n",
       "      <td>2218862.50</td>\n",
       "      <td>2219265.25</td>\n",
       "      <td>2219265.25</td>\n",
       "      <td>646709248</td>\n",
       "    </tr>\n",
       "  </tbody>\n",
       "</table>\n",
       "</div>"
      ],
      "text/plain": [
       "                                 Open        High         Low       Close   \n",
       "Datetime                                                                    \n",
       "2023-05-16 20:30:00+00:00  2217530.00  2219390.50  2217530.00  2218882.00  \\\n",
       "2023-05-16 20:35:00+00:00  2218978.50  2220552.75  2218978.50  2219520.50   \n",
       "2023-05-16 20:40:00+00:00  2220209.25  2220209.25  2219264.25  2219834.00   \n",
       "2023-05-16 20:45:00+00:00  2220500.75  2221176.00  2220500.75  2220894.25   \n",
       "2023-05-16 20:50:00+00:00  2219509.25  2219509.25  2218862.50  2219265.25   \n",
       "\n",
       "                            Adj Close      Volume  \n",
       "Datetime                                           \n",
       "2023-05-16 20:30:00+00:00  2218882.00   677445632  \n",
       "2023-05-16 20:35:00+00:00  2219520.50  1937506304  \n",
       "2023-05-16 20:40:00+00:00  2219834.00   440270848  \n",
       "2023-05-16 20:45:00+00:00  2220894.25   337903616  \n",
       "2023-05-16 20:50:00+00:00  2219265.25   646709248  "
      ]
     },
     "execution_count": 124,
     "metadata": {},
     "output_type": "execute_result"
    }
   ],
   "source": [
    "# Data Prepration and Analysis\n",
    "data.tail()"
   ]
  },
  {
   "cell_type": "code",
   "execution_count": 125,
   "metadata": {},
   "outputs": [],
   "source": [
    "scaler = MinMaxScaler(feature_range=(0,1))\n",
    "scaled_data = scaler.fit_transform(data['Close'].values.reshape(-1, 1))\n",
    "#prediction_days = 60 # for 1 day interval prediction\n",
    "prediction_days = 288  # 1 day period with 5-minute interval (24 hours * 60 minutes / 5 minutes)\n",
    "# future day = 30 # to predict for next 30th day\n",
    "x_train, y_train = [], []\n",
    "for x in range(prediction_days, len(scaled_data)): # for future days -> len(scaled_data) - future day\n",
    "    x_train.append(scaled_data[x-prediction_days:x, 0])\n",
    "    y_train.append(scaled_data[x, 0])\n",
    "\n",
    "x_train, y_train = np.array(x_train), np.array(y_train)\n",
    "x_train = np.reshape(x_train, (x_train.shape[0], x_train.shape[1], 1))"
   ]
  },
  {
   "cell_type": "code",
   "execution_count": 126,
   "metadata": {},
   "outputs": [
    {
     "name": "stdout",
     "output_type": "stream",
     "text": [
      "Epoch 1/25\n",
      "7/7 [==============================] - 9s 284ms/step - loss: 0.0234\n",
      "Epoch 2/25\n",
      "7/7 [==============================] - 2s 282ms/step - loss: 0.0096\n",
      "Epoch 3/25\n",
      "7/7 [==============================] - 2s 278ms/step - loss: 0.0089\n",
      "Epoch 4/25\n",
      "7/7 [==============================] - 2s 274ms/step - loss: 0.0078\n",
      "Epoch 5/25\n",
      "7/7 [==============================] - 2s 302ms/step - loss: 0.0062\n",
      "Epoch 6/25\n",
      "7/7 [==============================] - 2s 309ms/step - loss: 0.0071\n",
      "Epoch 7/25\n",
      "7/7 [==============================] - 2s 300ms/step - loss: 0.0060\n",
      "Epoch 8/25\n",
      "7/7 [==============================] - 2s 297ms/step - loss: 0.0054\n",
      "Epoch 9/25\n",
      "7/7 [==============================] - 2s 294ms/step - loss: 0.0053\n",
      "Epoch 10/25\n",
      "7/7 [==============================] - 2s 292ms/step - loss: 0.0048\n",
      "Epoch 11/25\n",
      "7/7 [==============================] - 2s 295ms/step - loss: 0.0046\n",
      "Epoch 12/25\n",
      "7/7 [==============================] - 2s 294ms/step - loss: 0.0045\n",
      "Epoch 13/25\n",
      "7/7 [==============================] - 2s 293ms/step - loss: 0.0041\n",
      "Epoch 14/25\n",
      "7/7 [==============================] - 2s 296ms/step - loss: 0.0038\n",
      "Epoch 15/25\n",
      "7/7 [==============================] - 2s 295ms/step - loss: 0.0037\n",
      "Epoch 16/25\n",
      "7/7 [==============================] - 2s 293ms/step - loss: 0.0032\n",
      "Epoch 17/25\n",
      "7/7 [==============================] - 2s 292ms/step - loss: 0.0035\n",
      "Epoch 18/25\n",
      "7/7 [==============================] - 2s 298ms/step - loss: 0.0034\n",
      "Epoch 19/25\n",
      "7/7 [==============================] - 2s 298ms/step - loss: 0.0031\n",
      "Epoch 20/25\n",
      "7/7 [==============================] - 2s 354ms/step - loss: 0.0034\n",
      "Epoch 21/25\n",
      "7/7 [==============================] - 2s 296ms/step - loss: 0.0031\n",
      "Epoch 22/25\n",
      "7/7 [==============================] - 2s 286ms/step - loss: 0.0031\n",
      "Epoch 23/25\n",
      "7/7 [==============================] - 2s 296ms/step - loss: 0.0034\n",
      "Epoch 24/25\n",
      "7/7 [==============================] - 2s 298ms/step - loss: 0.0033\n",
      "Epoch 25/25\n",
      "7/7 [==============================] - 2s 290ms/step - loss: 0.0033\n"
     ]
    },
    {
     "data": {
      "text/plain": [
       "<keras.callbacks.History at 0x239fd9f5460>"
      ]
     },
     "execution_count": 126,
     "metadata": {},
     "output_type": "execute_result"
    }
   ],
   "source": [
    "# Create Neural Network\n",
    "model = Sequential()\n",
    "model.add(LSTM(units=50, return_sequences=True, input_shape=(x_train.shape[1], 1)))\n",
    "model.add(Dropout(0.2))\n",
    "model.add(LSTM(units=50, return_sequences=True))\n",
    "model.add(Dropout(0.2))\n",
    "model.add(LSTM(units=50))\n",
    "model.add(Dropout(0.2))\n",
    "model.add(Dense(units=1))\n",
    "\n",
    "model.compile(optimizer='adam', loss='mean_squared_error')\n",
    "model.fit(x_train, y_train, epochs=25, batch_size=32)"
   ]
  },
  {
   "cell_type": "code",
   "execution_count": 127,
   "metadata": {},
   "outputs": [
    {
     "name": "stdout",
     "output_type": "stream",
     "text": [
      "[*********************100%***********************]  1 of 1 completed\n",
      "16/16 [==============================] - 3s 92ms/step\n"
     ]
    },
    {
     "data": {
      "image/png": "[encoded data removed]",
      "text/plain": [
       "<Figure size 432x288 with 1 Axes>"
      ]
     },
     "metadata": {
      "needs_background": "light"
     },
     "output_type": "display_data"
    }
   ],
   "source": [
    "# test model\n",
    "test_data = yf.download(\"BTC-INR\", start=START, end=END, period=PERIOD, interval=INERVAL)\n",
    "actual_prices = test_data['Close'].values\n",
    "total_dataset = pd.concat((data['Close'], test_data['Close']), axis=0)\n",
    "\n",
    "model_inputs = total_dataset[len(total_dataset) - len(test_data) - prediction_days:].values\n",
    "model_inputs = model_inputs.reshape(-1, 1)\n",
    "model_inputs = scaler.fit_transform(model_inputs)\n",
    "\n",
    "x_test = []\n",
    "for x in range(prediction_days, len(model_inputs)):\n",
    "    x_test.append(model_inputs[x-prediction_days:x, 0])\n",
    "\n",
    "x_test = np.array(x_test)\n",
    "x_test = np.reshape(x_test, (x_test.shape[0], x_test.shape[1], 1))\n",
    "\n",
    "prediction_prices = model.predict(x_test)\n",
    "prediction_prices = scaler.inverse_transform(prediction_prices)\n",
    "\n",
    "plt.plot(actual_prices, color='black', label='Actual Prices')\n",
    "plt.plot(prediction_prices, color='green', label='Predicted Prices')\n",
    "plt.title(f\"{CRYPTO_CURRENCY} Price Prediction\")\n",
    "plt.xlabel('Time')\n",
    "plt.ylabel('Price')\n",
    "plt.legend(loc='upper left')\n",
    "plt.show()"
   ]
  },
  {
   "cell_type": "code",
   "execution_count": 128,
   "metadata": {},
   "outputs": [
    {
     "name": "stdout",
     "output_type": "stream",
     "text": [
      "1/1 [==============================] - 1s 1s/step\n",
      "[[2220966.]]\n"
     ]
    }
   ],
   "source": [
    "# Predict Next Day\n",
    "real_data = [model_inputs[len(model_inputs)+1 - prediction_days: len(model_inputs) + 1, 0]]\n",
    "real_data = np.array(real_data)\n",
    "real_data = np.reshape(real_data, (real_data.shape[0], real_data.shape[1], 1))\n",
    "\n",
    "prediction = model.predict(real_data)\n",
    "prediction = scaler.inverse_transform(prediction)\n",
    "print(prediction)"
   ]
  },
  {
   "cell_type": "code",
   "execution_count": 129,
   "metadata": {},
   "outputs": [
    {
     "data": {
      "text/plain": [
       "0.8892282985535589"
      ]
     },
     "execution_count": 129,
     "metadata": {},
     "output_type": "execute_result"
    }
   ],
   "source": [
    "from sklearn.metrics import mean_squared_error, mean_absolute_error, r2_score\n",
    "r2 = r2_score(actual_prices, prediction_prices)\n",
    "r2"
   ]
  },
  {
   "cell_type": "code",
   "execution_count": null,
   "metadata": {},
   "outputs": [],
   "source": [
    " # Get the last predicted price and the previous actual price\n",
    "last_predicted_price = prediction_prices[-1]\n",
    "previous_actual_price = actual_prices[-2]\n",
    "latest_actual_price = actual_prices[-1]\n",
    "\n",
    "# Calculate the current profit/loss percentage\n",
    "current_profit = ((latest_actual_price - previous_actual_price) / previous_actual_price) * 100\n",
    "\n",
    "# Determine the market direction\n",
    "if last_predicted_price < previous_actual_price: #and talib.RSI(actual_prices) > RSI_UPPER_LIMIT:\n",
    "    market_direction = \"Market is likely to go down. Place SELL Order!!\"\n",
    "    print(market_direction)\n",
    "elif last_predicted_price > previous_actual_price:# and talib.RSI(actual_prices) < RSI_LOWER_LIMIT:\n",
    "    market_direction = \"Market is likely to go up. Place BUY Order!!\"\n",
    "    print(market_direction)\n",
    "else:\n",
    "    market_direction = \"Market is likely to remain unchanged.\"\n",
    "    print(market_direction)\n",
    "\n",
    "print(f\"Current Profit/Loss: {current_profit:.2f}%\")\n",
    "\n",
    "# Check if profit limit or stop loss is achieved\n",
    "if current_profit >= profit_limit:\n",
    "    print(\"Profit limit achieved. Exiting program.\")\n",
    "    break\n",
    "elif current_profit <= -stop_loss:\n",
    "    print(\"Stop loss achieved. Exiting program.\")\n",
    "    break"
   ]
  },
  {
   "cell_type": "code",
   "execution_count": null,
   "metadata": {},
   "outputs": [],
   "source": []
  }
 ],
 "metadata": {
  "kernelspec": {
   "display_name": "Python 3",
   "language": "python",
   "name": "python3"
  }
 },
 "nbformat": 4,
 "nbformat_minor": 4
}
