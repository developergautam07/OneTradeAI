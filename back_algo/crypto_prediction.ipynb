{
 "cells": [
  {
   "cell_type": "code",
   "execution_count": 1,
   "metadata": {},
   "outputs": [
    {
     "name": "stderr",
     "output_type": "stream",
     "text": [
      "D:\\Python\\lib\\site-packages\\pandas\\core\\computation\\expressions.py:20: UserWarning: Pandas requires version '2.7.3' or newer of 'numexpr' (version '2.7.1' currently installed).\n",
      "  from pandas.core.computation.check import NUMEXPR_INSTALLED\n"
     ]
    }
   ],
   "source": [
    "# Import Libraries\n",
    "import numpy as np\n",
    "import pandas as pd\n",
    "import datetime as dt\n",
    "import matplotlib.pyplot as plt\n",
    "import pandas_datareader.data as web\n",
    "from sklearn.preprocessing import MinMaxScaler\n",
    "from tensorflow.keras.layers import Dense, Dropout, LSTM\n",
    "from tensorflow.keras.models import Sequential\n",
    "import yfinance as yf"
   ]
  },
  {
   "cell_type": "code",
   "execution_count": 2,
   "metadata": {},
   "outputs": [],
   "source": [
    "CRYPTO_CURRENCY = 'BTC'\n",
    "AGAINST_CURRENCY = 'INR'\n",
    "START = dt.datetime(2023,5,1)\n",
    "END = dt.datetime.now()\n",
    "PERIOD = '1d'\n",
    "INERVAL = \"5m\""
   ]
  },
  {
   "cell_type": "code",
   "execution_count": 3,
   "metadata": {},
   "outputs": [
    {
     "name": "stdout",
     "output_type": "stream",
     "text": [
      "[*********************100%***********************]  1 of 1 completed\n"
     ]
    }
   ],
   "source": [
    "# Read Data\n",
    "data = yf.download(f\"{CRYPTO_CURRENCY}-{AGAINST_CURRENCY}\", start=START, end=END, period=PERIOD, interval=INERVAL)\n",
    "#! pip install pycryptodome pycryptodomex\n",
    "#! pip uninstall --yes pandas-datareader\n",
    "#! pip install git+https://github.com/raphi6/pandas-datareader.git@ea66d6b981554f9d0262038aef2106dda7138316"
   ]
  },
  {
   "cell_type": "code",
   "execution_count": 4,
   "metadata": {},
   "outputs": [
    {
     "data": {
      "text/html": [
       "<div>\n",
       "<style scoped>\n",
       "    .dataframe tbody tr th:only-of-type {\n",
       "        vertical-align: middle;\n",
       "    }\n",
       "\n",
       "    .dataframe tbody tr th {\n",
       "        vertical-align: top;\n",
       "    }\n",
       "\n",
       "    .dataframe thead th {\n",
       "        text-align: right;\n",
       "    }\n",
       "</style>\n",
       "<table border=\"1\" class=\"dataframe\">\n",
       "  <thead>\n",
       "    <tr style=\"text-align: right;\">\n",
       "      <th></th>\n",
       "      <th>Open</th>\n",
       "      <th>High</th>\n",
       "      <th>Low</th>\n",
       "      <th>Close</th>\n",
       "      <th>Adj Close</th>\n",
       "      <th>Volume</th>\n",
       "    </tr>\n",
       "    <tr>\n",
       "      <th>Datetime</th>\n",
       "      <th></th>\n",
       "      <th></th>\n",
       "      <th></th>\n",
       "      <th></th>\n",
       "      <th></th>\n",
       "      <th></th>\n",
       "    </tr>\n",
       "  </thead>\n",
       "  <tbody>\n",
       "    <tr>\n",
       "      <th>2023-05-10 18:05:00+00:00</th>\n",
       "      <td>2253164.75</td>\n",
       "      <td>2253164.75</td>\n",
       "      <td>2248460.25</td>\n",
       "      <td>2248460.25</td>\n",
       "      <td>2248460.25</td>\n",
       "      <td>6055395328</td>\n",
       "    </tr>\n",
       "    <tr>\n",
       "      <th>2023-05-10 18:10:00+00:00</th>\n",
       "      <td>2248331.00</td>\n",
       "      <td>2253451.75</td>\n",
       "      <td>2248173.00</td>\n",
       "      <td>2252588.50</td>\n",
       "      <td>2252588.50</td>\n",
       "      <td>5040898048</td>\n",
       "    </tr>\n",
       "    <tr>\n",
       "      <th>2023-05-10 18:15:00+00:00</th>\n",
       "      <td>2251580.75</td>\n",
       "      <td>2251580.75</td>\n",
       "      <td>2247914.00</td>\n",
       "      <td>2250798.00</td>\n",
       "      <td>2250798.00</td>\n",
       "      <td>2777939968</td>\n",
       "    </tr>\n",
       "    <tr>\n",
       "      <th>2023-05-10 18:20:00+00:00</th>\n",
       "      <td>2254857.25</td>\n",
       "      <td>2255694.25</td>\n",
       "      <td>2253627.00</td>\n",
       "      <td>2254462.50</td>\n",
       "      <td>2254462.50</td>\n",
       "      <td>7868776448</td>\n",
       "    </tr>\n",
       "    <tr>\n",
       "      <th>2023-05-10 18:25:00+00:00</th>\n",
       "      <td>2252705.25</td>\n",
       "      <td>2252705.25</td>\n",
       "      <td>2252705.25</td>\n",
       "      <td>2252705.25</td>\n",
       "      <td>2252705.25</td>\n",
       "      <td>0</td>\n",
       "    </tr>\n",
       "  </tbody>\n",
       "</table>\n",
       "</div>"
      ],
      "text/plain": [
       "                                 Open        High         Low       Close   \n",
       "Datetime                                                                    \n",
       "2023-05-10 18:05:00+00:00  2253164.75  2253164.75  2248460.25  2248460.25  \\\n",
       "2023-05-10 18:10:00+00:00  2248331.00  2253451.75  2248173.00  2252588.50   \n",
       "2023-05-10 18:15:00+00:00  2251580.75  2251580.75  2247914.00  2250798.00   \n",
       "2023-05-10 18:20:00+00:00  2254857.25  2255694.25  2253627.00  2254462.50   \n",
       "2023-05-10 18:25:00+00:00  2252705.25  2252705.25  2252705.25  2252705.25   \n",
       "\n",
       "                            Adj Close      Volume  \n",
       "Datetime                                           \n",
       "2023-05-10 18:05:00+00:00  2248460.25  6055395328  \n",
       "2023-05-10 18:10:00+00:00  2252588.50  5040898048  \n",
       "2023-05-10 18:15:00+00:00  2250798.00  2777939968  \n",
       "2023-05-10 18:20:00+00:00  2254462.50  7868776448  \n",
       "2023-05-10 18:25:00+00:00  2252705.25           0  "
      ]
     },
     "execution_count": 4,
     "metadata": {},
     "output_type": "execute_result"
    }
   ],
   "source": [
    "# Data Prepration and Analysis\n",
    "data.tail()"
   ]
  },
  {
   "cell_type": "code",
   "execution_count": 5,
   "metadata": {},
   "outputs": [],
   "source": [
    "scaler = MinMaxScaler(feature_range=(0,1))\n",
    "scaled_data = scaler.fit_transform(data['Close'].values.reshape(-1, 1))\n",
    "# prediction_days = 60 # for 1 day interval prediction\n",
    "prediction_days = 288  # 1 day period with 5-minute interval (24 hours * 60 minutes / 5 minutes)\n",
    "# future day = 30 # to predict for next 30th day\n",
    "x_train, y_train = [], []\n",
    "for x in range(prediction_days, len(scaled_data)): # for future days -> len(scaled_data) - future day\n",
    "    x_train.append(scaled_data[x-prediction_days:x, 0])\n",
    "    y_train.append(scaled_data[x, 0])\n",
    "\n",
    "x_train, y_train = np.array(x_train), np.array(y_train)\n",
    "x_train = np.reshape(x_train, (x_train.shape[0], x_train.shape[1], 1))"
   ]
  },
  {
   "cell_type": "code",
   "execution_count": null,
   "metadata": {},
   "outputs": [
    {
     "name": "stdout",
     "output_type": "stream",
     "text": [
      "Epoch 1/25\n",
      "79/79 [==============================] - 29s 289ms/step - loss: 0.0206\n",
      "Epoch 2/25\n",
      "79/79 [==============================] - 26s 335ms/step - loss: 0.0050\n",
      "Epoch 3/25\n",
      "79/79 [==============================] - 25s 318ms/step - loss: 0.0041\n",
      "Epoch 4/25\n",
      "79/79 [==============================] - 27s 344ms/step - loss: 0.0041\n",
      "Epoch 5/25\n",
      "53/79 [===================>..........] - ETA: 8s - loss: 0.0038"
     ]
    }
   ],
   "source": [
    "# Create Neural Network\n",
    "model = Sequential()\n",
    "model.add(LSTM(units=50, return_sequences=True, input_shape=(x_train.shape[1], 1)))\n",
    "model.add(Dropout(0.2))\n",
    "model.add(LSTM(units=50, return_sequences=True))\n",
    "model.add(Dropout(0.2))\n",
    "model.add(LSTM(units=50))\n",
    "model.add(Dropout(0.2))\n",
    "model.add(Dense(units=1))\n",
    "\n",
    "model.compile(optimizer='adam', loss='mean_squared_error')\n",
    "model.fit(x_train, y_train, epochs=25, batch_size=32)"
   ]
  },
  {
   "cell_type": "code",
   "execution_count": null,
   "metadata": {},
   "outputs": [],
   "source": [
    "# test model\n",
    "test_data = yf.download(\"BTC-INR\", start=START, end=END)\n",
    "actual_prices = test_data['Close'].values\n",
    "total_dataset = pd.concat((data['Close'], test_data['Close']), axis=0)\n",
    "\n",
    "model_inputs = total_dataset[len(total_dataset) - len(test_data) - prediction_days:].values\n",
    "model_inputs = model_inputs.reshape(-1, 1)\n",
    "model_inputs = scaler.fit_transform(model_inputs)\n",
    "\n",
    "x_test = []\n",
    "for x in range(prediction_days, len(model_inputs)):\n",
    "    x_test.append(model_inputs[x-prediction_days:x, 0])\n",
    "\n",
    "x_test = np.array(x_test)\n",
    "x_test = np.reshape(x_test, (x_test.shape[0], x_test.shape[1], 1))\n",
    "\n",
    "prediction_prices = model.predict(x_test)\n",
    "prediction_prices = scaler.inverse_transform(prediction_prices)\n",
    "\n",
    "plt.plot(actual_prices, color='black', label='Actual Prices')\n",
    "plt.plot(prediction_prices, color='green', label='Predicted Prices')\n",
    "plt.title(f\"{CRYPTO_CURRENCY} Price Prediction\")\n",
    "plt.xlabel('Time')\n",
    "plt.ylabel('Price')\n",
    "plt.legend(loc='upper left')\n",
    "plt.show()"
   ]
  },
  {
   "cell_type": "code",
   "execution_count": null,
   "metadata": {},
   "outputs": [],
   "source": [
    "# Predict Next Day\n",
    "real_data = [model_inputs[len(model_inputs)+1 - prediction_days: len(model_inputs) + 1, 0]]\n",
    "real_data = np.array(real_data)\n",
    "real_data = np.reshape(real_data, (real_data.shape[0], real_data.shape[1], 1))\n",
    "\n",
    "prediction = model.predict(real_data)\n",
    "prediction = scaler.inverse_transform(prediction)\n",
    "print(prediction)"
   ]
  },
  {
   "cell_type": "code",
   "execution_count": null,
   "metadata": {},
   "outputs": [],
   "source": [
    "from sklearn.metrics import mean_squared_error, mean_absolute_error, r2_score\n",
    "r2 = r2_score(actual_prices, prediction_prices)\n",
    "r2"
   ]
  },
  {
   "cell_type": "code",
   "execution_count": null,
   "metadata": {},
   "outputs": [],
   "source": []
  }
 ],
 "metadata": {
  "kernelspec": {
   "display_name": "Python 3",
   "language": "python",
   "name": "python3"
  },
  "language_info": {
   "codemirror_mode": {
    "name": "ipython",
    "version": 3
   },
   "file_extension": ".py",
   "mimetype": "text/x-python",
   "name": "python",
   "nbconvert_exporter": "python",
   "pygments_lexer": "ipython3",
   "version": "3.8.3"
  }
 },
 "nbformat": 4,
 "nbformat_minor": 4
}
